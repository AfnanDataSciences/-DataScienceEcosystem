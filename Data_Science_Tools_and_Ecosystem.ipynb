{
  "nbformat": 4,
  "nbformat_minor": 0,
  "metadata": {
    "colab": {
      "provenance": []
    },
    "kernelspec": {
      "name": "python3",
      "display_name": "Python 3"
    },
    "language_info": {
      "name": "python"
    }
  },
  "cells": [
    {
      "cell_type": "markdown",
      "source": [
        "# Data Science Tools and Ecosystem\n",
        "\n",
        "In this notebook, Data Science Tools and Ecosystem are summarized.\n"
      ],
      "metadata": {
        "id": "xHO6R4N6aIOl"
      }
    },
    {
      "cell_type": "markdown",
      "source": [
        "**Objectives:**\n",
        "\n",
        "\n",
        "*   List popular languages for Data Science\n",
        "*   List of common libraries for Data Science\n",
        "\n",
        "*   Some of Data Science Tools\n",
        "*   Arithmetic Expressions in Python\n",
        "\n",
        "\n",
        "\n"
      ],
      "metadata": {
        "id": "sF9YIrKmjmPN"
      }
    },
    {
      "cell_type": "markdown",
      "source": [
        "Some of the popular languages that Data Scientists use are:\n",
        "\n",
        "1.   Python\n",
        "2.   R\n",
        "1.   SQL\n",
        "2.   Java\n",
        "\n",
        "\n",
        "\n",
        "\n",
        "\n",
        "\n"
      ],
      "metadata": {
        "id": "Jkcyle4Vbop9"
      }
    },
    {
      "cell_type": "markdown",
      "source": [
        "Some of the commonly used libraries used by Data Scientists include:\n",
        "\n",
        "\n",
        "1.   NumPy\n",
        "2.   SciPy\n",
        "1.   PyTorch\n",
        "2.   Pandas\n",
        "\n",
        "\n",
        "\n"
      ],
      "metadata": {
        "id": "SRASxynzcy3Q"
      }
    },
    {
      "cell_type": "markdown",
      "source": [
        "Data Science Tools | .\n",
        "--- | ---\n",
        "RStudio |\n",
        "Apache Spark |\n",
        "Apache Hadoop|\n"
      ],
      "metadata": {
        "id": "wVKJ-HWbeENO"
      }
    },
    {
      "cell_type": "markdown",
      "source": [
        "### Below are a few examples of evaluating arithmetic expressions in Python"
      ],
      "metadata": {
        "id": "k332GpW4hOac"
      }
    },
    {
      "cell_type": "code",
      "execution_count": 1,
      "metadata": {
        "colab": {
          "base_uri": "https://localhost:8080/"
        },
        "id": "5DSBq5lmZSYa",
        "outputId": "1675bd7d-aff3-4390-fdad-ff9d24665d68"
      },
      "outputs": [
        {
          "output_type": "execute_result",
          "data": {
            "text/plain": [
              "17"
            ]
          },
          "metadata": {},
          "execution_count": 1
        }
      ],
      "source": [
        "#This a simple arithmetic expression to mutiply then add integers\n",
        " (3*4)+5"
      ]
    },
    {
      "cell_type": "code",
      "source": [
        " #This will convert 200 minutes to hours by diving by 60\n",
        " 200/60"
      ],
      "metadata": {
        "colab": {
          "base_uri": "https://localhost:8080/"
        },
        "id": "wigLxFMhi4ib",
        "outputId": "d78c9dce-06fa-4d00-b6c4-d63b499b00ff"
      },
      "execution_count": 2,
      "outputs": [
        {
          "output_type": "execute_result",
          "data": {
            "text/plain": [
              "3.3333333333333335"
            ]
          },
          "metadata": {},
          "execution_count": 2
        }
      ]
    },
    {
      "cell_type": "markdown",
      "source": [
        "## Author\n",
        "Afnan Alotaibi"
      ],
      "metadata": {
        "id": "tUbIvHuok8rO"
      }
    }
  ]
}